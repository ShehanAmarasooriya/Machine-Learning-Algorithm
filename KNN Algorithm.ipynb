{
 "cells": [
  {
   "cell_type": "code",
   "execution_count": 2,
   "metadata": {},
   "outputs": [],
   "source": [
    "#https://www.edureka.co/blog/k-nearest-neighbors-algorithm/"
   ]
  },
  {
   "cell_type": "code",
   "execution_count": 3,
   "metadata": {},
   "outputs": [
    {
     "name": "stdout",
     "output_type": "stream",
     "text": [
      "1, 5.1, 3.5, 1.4, 0.2, Iris-setosa\n",
      "2, 4.9, 3, 1.4, 0.2, Iris-setosa\n",
      "3, 4.7, 3.2, 1.3, 0.2, Iris-setosa\n",
      "4, 4.6, 3.1, 1.5, 0.2, Iris-setosa\n",
      "5, 5, 3.6, 1.4, 0.2, Iris-setosa\n",
      "6, 5.4, 3.9, 1.7, 0.4, Iris-setosa\n",
      "7, 4.6, 3.4, 1.4, 0.3, Iris-setosa\n",
      "8, 5, 3.4, 1.5, 0.2, Iris-setosa\n",
      "9, 4.4, 2.9, 1.4, 0.2, Iris-setosa\n",
      "10, 4.9, 3.1, 1.5, 0.1, Iris-setosa\n",
      "11, 5.4, 3.7, 1.5, 0.2, Iris-setosa\n",
      "12, 4.8, 3.4, 1.6, 0.2, Iris-setosa\n",
      "13, 4.8, 3, 1.4, 0.1, Iris-setosa\n",
      "14, 4.3, 3, 1.1, 0.1, Iris-setosa\n",
      "15, 5.8, 4, 1.2, 0.2, Iris-setosa\n",
      "16, 5.7, 4.4, 1.5, 0.4, Iris-setosa\n",
      "17, 5.4, 3.9, 1.3, 0.4, Iris-setosa\n",
      "18, 5.1, 3.5, 1.4, 0.3, Iris-setosa\n",
      "19, 5.7, 3.8, 1.7, 0.3, Iris-setosa\n",
      "20, 5.1, 3.8, 1.5, 0.3, Iris-setosa\n",
      "21, 5.4, 3.4, 1.7, 0.2, Iris-setosa\n",
      "22, 5.1, 3.7, 1.5, 0.4, Iris-setosa\n",
      "23, 4.6, 3.6, 1, 0.2, Iris-setosa\n",
      "24, 5.1, 3.3, 1.7, 0.5, Iris-setosa\n",
      "25, 4.8, 3.4, 1.9, 0.2, Iris-setosa\n",
      "26, 5, 3, 1.6, 0.2, Iris-setosa\n",
      "27, 5, 3.4, 1.6, 0.4, Iris-setosa\n",
      "28, 5.2, 3.5, 1.5, 0.2, Iris-setosa\n",
      "29, 5.2, 3.4, 1.4, 0.2, Iris-setosa\n",
      "30, 4.7, 3.2, 1.6, 0.2, Iris-setosa\n",
      "31, 4.8, 3.1, 1.6, 0.2, Iris-setosa\n",
      "32, 5.4, 3.4, 1.5, 0.4, Iris-setosa\n",
      "33, 5.2, 4.1, 1.5, 0.1, Iris-setosa\n",
      "34, 5.5, 4.2, 1.4, 0.2, Iris-setosa\n",
      "35, 4.9, 3.1, 1.5, 0.1, Iris-setosa\n",
      "36, 5, 3.2, 1.2, 0.2, Iris-setosa\n",
      "37, 5.5, 3.5, 1.3, 0.2, Iris-setosa\n",
      "38, 4.9, 3.1, 1.5, 0.1, Iris-setosa\n",
      "39, 4.4, 3, 1.3, 0.2, Iris-setosa\n",
      "40, 5.1, 3.4, 1.5, 0.2, Iris-setosa\n",
      "41, 5, 3.5, 1.3, 0.3, Iris-setosa\n",
      "42, 4.5, 2.3, 1.3, 0.3, Iris-setosa\n",
      "43, 4.4, 3.2, 1.3, 0.2, Iris-setosa\n",
      "44, 5, 3.5, 1.6, 0.6, Iris-setosa\n",
      "45, 5.1, 3.8, 1.9, 0.4, Iris-setosa\n",
      "46, 4.8, 3, 1.4, 0.3, Iris-setosa\n",
      "47, 5.1, 3.8, 1.6, 0.2, Iris-setosa\n",
      "48, 4.6, 3.2, 1.4, 0.2, Iris-setosa\n",
      "49, 5.3, 3.7, 1.5, 0.2, Iris-setosa\n",
      "50, 5, 3.3, 1.4, 0.2, Iris-setosa\n",
      "51, 7, 3.2, 4.7, 1.4, Iris-versicolor\n",
      "52, 6.4, 3.2, 4.5, 1.5, Iris-versicolor\n",
      "53, 6.9, 3.1, 4.9, 1.5, Iris-versicolor\n",
      "54, 5.5, 2.3, 4, 1.3, Iris-versicolor\n",
      "55, 6.5, 2.8, 4.6, 1.5, Iris-versicolor\n",
      "56, 5.7, 2.8, 4.5, 1.3, Iris-versicolor\n",
      "57, 6.3, 3.3, 4.7, 1.6, Iris-versicolor\n",
      "58, 4.9, 2.4, 3.3, 1, Iris-versicolor\n",
      "59, 6.6, 2.9, 4.6, 1.3, Iris-versicolor\n",
      "60, 5.2, 2.7, 3.9, 1.4, Iris-versicolor\n",
      "61, 5, 2, 3.5, 1, Iris-versicolor\n",
      "62, 5.9, 3, 4.2, 1.5, Iris-versicolor\n",
      "63, 6, 2.2, 4, 1, Iris-versicolor\n",
      "64, 6.1, 2.9, 4.7, 1.4, Iris-versicolor\n",
      "65, 5.6, 2.9, 3.6, 1.3, Iris-versicolor\n",
      "66, 6.7, 3.1, 4.4, 1.4, Iris-versicolor\n",
      "67, 5.6, 3, 4.5, 1.5, Iris-versicolor\n",
      "68, 5.8, 2.7, 4.1, 1, Iris-versicolor\n",
      "69, 6.2, 2.2, 4.5, 1.5, Iris-versicolor\n",
      "70, 5.6, 2.5, 3.9, 1.1, Iris-versicolor\n",
      "71, 5.9, 3.2, 4.8, 1.8, Iris-versicolor\n",
      "72, 6.1, 2.8, 4, 1.3, Iris-versicolor\n",
      "73, 6.3, 2.5, 4.9, 1.5, Iris-versicolor\n",
      "74, 6.1, 2.8, 4.7, 1.2, Iris-versicolor\n",
      "75, 6.4, 2.9, 4.3, 1.3, Iris-versicolor\n",
      "76, 6.6, 3, 4.4, 1.4, Iris-versicolor\n",
      "77, 6.8, 2.8, 4.8, 1.4, Iris-versicolor\n",
      "78, 6.7, 3, 5, 1.7, Iris-versicolor\n",
      "79, 6, 2.9, 4.5, 1.5, Iris-versicolor\n",
      "80, 5.7, 2.6, 3.5, 1, Iris-versicolor\n",
      "81, 5.5, 2.4, 3.8, 1.1, Iris-versicolor\n",
      "82, 5.5, 2.4, 3.7, 1, Iris-versicolor\n",
      "83, 5.8, 2.7, 3.9, 1.2, Iris-versicolor\n",
      "84, 6, 2.7, 5.1, 1.6, Iris-versicolor\n",
      "85, 5.4, 3, 4.5, 1.5, Iris-versicolor\n",
      "86, 6, 3.4, 4.5, 1.6, Iris-versicolor\n",
      "87, 6.7, 3.1, 4.7, 1.5, Iris-versicolor\n",
      "88, 6.3, 2.3, 4.4, 1.3, Iris-versicolor\n",
      "89, 5.6, 3, 4.1, 1.3, Iris-versicolor\n",
      "90, 5.5, 2.5, 4, 1.3, Iris-versicolor\n",
      "91, 5.5, 2.6, 4.4, 1.2, Iris-versicolor\n",
      "92, 6.1, 3, 4.6, 1.4, Iris-versicolor\n",
      "93, 5.8, 2.6, 4, 1.2, Iris-versicolor\n",
      "94, 5, 2.3, 3.3, 1, Iris-versicolor\n",
      "95, 5.6, 2.7, 4.2, 1.3, Iris-versicolor\n",
      "96, 5.7, 3, 4.2, 1.2, Iris-versicolor\n",
      "97, 5.7, 2.9, 4.2, 1.3, Iris-versicolor\n",
      "98, 6.2, 2.9, 4.3, 1.3, Iris-versicolor\n",
      "99, 5.1, 2.5, 3, 1.1, Iris-versicolor\n",
      "100, 5.7, 2.8, 4.1, 1.3, Iris-versicolor\n",
      "101, 6.3, 3.3, 6, 2.5, Iris-virginica\n",
      "102, 5.8, 2.7, 5.1, 1.9, Iris-virginica\n",
      "103, 7.1, 3, 5.9, 2.1, Iris-virginica\n",
      "104, 6.3, 2.9, 5.6, 1.8, Iris-virginica\n",
      "105, 6.5, 3, 5.8, 2.2, Iris-virginica\n",
      "106, 7.6, 3, 6.6, 2.1, Iris-virginica\n",
      "107, 4.9, 2.5, 4.5, 1.7, Iris-virginica\n",
      "108, 7.3, 2.9, 6.3, 1.8, Iris-virginica\n",
      "109, 6.7, 2.5, 5.8, 1.8, Iris-virginica\n",
      "110, 7.2, 3.6, 6.1, 2.5, Iris-virginica\n",
      "111, 6.5, 3.2, 5.1, 2, Iris-virginica\n",
      "112, 6.4, 2.7, 5.3, 1.9, Iris-virginica\n",
      "113, 6.8, 3, 5.5, 2.1, Iris-virginica\n",
      "114, 5.7, 2.5, 5, 2, Iris-virginica\n",
      "115, 5.8, 2.8, 5.1, 2.4, Iris-virginica\n",
      "116, 6.4, 3.2, 5.3, 2.3, Iris-virginica\n",
      "117, 6.5, 3, 5.5, 1.8, Iris-virginica\n",
      "118, 7.7, 3.8, 6.7, 2.2, Iris-virginica\n",
      "119, 7.7, 2.6, 6.9, 2.3, Iris-virginica\n",
      "120, 6, 2.2, 5, 1.5, Iris-virginica\n",
      "121, 6.9, 3.2, 5.7, 2.3, Iris-virginica\n",
      "122, 5.6, 2.8, 4.9, 2, Iris-virginica\n",
      "123, 7.7, 2.8, 6.7, 2, Iris-virginica\n",
      "124, 6.3, 2.7, 4.9, 1.8, Iris-virginica\n",
      "125, 6.7, 3.3, 5.7, 2.1, Iris-virginica\n",
      "126, 7.2, 3.2, 6, 1.8, Iris-virginica\n",
      "127, 6.2, 2.8, 4.8, 1.8, Iris-virginica\n",
      "128, 6.1, 3, 4.9, 1.8, Iris-virginica\n",
      "129, 6.4, 2.8, 5.6, 2.1, Iris-virginica\n",
      "130, 7.2, 3, 5.8, 1.6, Iris-virginica\n",
      "131, 7.4, 2.8, 6.1, 1.9, Iris-virginica\n",
      "132, 7.9, 3.8, 6.4, 2, Iris-virginica\n",
      "133, 6.4, 2.8, 5.6, 2.2, Iris-virginica\n",
      "134, 6.3, 2.8, 5.1, 1.5, Iris-virginica\n",
      "135, 6.1, 2.6, 5.6, 1.4, Iris-virginica\n",
      "136, 7.7, 3, 6.1, 2.3, Iris-virginica\n",
      "137, 6.3, 3.4, 5.6, 2.4, Iris-virginica\n",
      "138, 6.4, 3.1, 5.5, 1.8, Iris-virginica\n",
      "139, 6, 3, 4.8, 1.8, Iris-virginica\n",
      "140, 6.9, 3.1, 5.4, 2.1, Iris-virginica\n",
      "141, 6.7, 3.1, 5.6, 2.4, Iris-virginica\n",
      "142, 6.9, 3.1, 5.1, 2.3, Iris-virginica\n",
      "143, 5.8, 2.7, 5.1, 1.9, Iris-virginica\n",
      "144, 6.8, 3.2, 5.9, 2.3, Iris-virginica\n",
      "145, 6.7, 3.3, 5.7, 2.5, Iris-virginica\n",
      "146, 6.7, 3, 5.2, 2.3, Iris-virginica\n",
      "147, 6.3, 2.5, 5, 1.9, Iris-virginica\n",
      "148, 6.5, 3, 5.2, 2, Iris-virginica\n",
      "149, 6.2, 3.4, 5.4, 2.3, Iris-virginica\n",
      "150, 5.9, 3, 5.1, 1.8, Iris-virginica\n"
     ]
    }
   ],
   "source": [
    "import csv\n",
    "with open(r'C:\\Users\\dsheh\\OneDrive\\Desktop\\machine Learing\\tutorial\\Iris.csv') as csvfile:\n",
    "    lines = csv.reader(csvfile)\n",
    "    for row in lines:\n",
    "        print (', '.join(row))"
   ]
  },
  {
   "cell_type": "code",
   "execution_count": 4,
   "metadata": {},
   "outputs": [],
   "source": [
    "import csv\n",
    "import random\n",
    "def handleDataset(filename, split, trainingSet=[] , testSet=[]):\n",
    "    with open(filename, 'r') as csvfile:\n",
    "        lines = csv.reader(csvfile)\n",
    "        dataset = list(lines)\n",
    "        for x in range(len(dataset)-1):\n",
    "            for y in range(4):\n",
    "                dataset[x][y] = float(dataset[x][y])\n",
    "            if random.random() < split:\n",
    "                trainingSet.append(dataset[x])\n",
    "            else:\n",
    "                testSet.append(dataset[x])"
   ]
  },
  {
   "cell_type": "code",
   "execution_count": 5,
   "metadata": {},
   "outputs": [
    {
     "name": "stdout",
     "output_type": "stream",
     "text": [
      "Train: 108\n",
      "Test: 41\n"
     ]
    }
   ],
   "source": [
    "trainingSet=[]\n",
    "testSet=[]\n",
    "handleDataset(r'Iris.csv.', 0.66, trainingSet, testSet)\n",
    "print ('Train: ' + repr(len(trainingSet)))\n",
    "print ('Test: ' + repr(len(testSet)))"
   ]
  },
  {
   "cell_type": "code",
   "execution_count": 6,
   "metadata": {},
   "outputs": [],
   "source": [
    "import math\n",
    "def euclideanDistance(instance1, instance2, length):\n",
    "    distance = 0\n",
    "    for x in range(length):\n",
    "        distance += pow((instance1[x] - instance2[x]), 2)\n",
    "    return math.sqrt(distance)"
   ]
  },
  {
   "cell_type": "code",
   "execution_count": 7,
   "metadata": {},
   "outputs": [
    {
     "name": "stdout",
     "output_type": "stream",
     "text": [
      "Distance: 3.4641016151377544\n"
     ]
    }
   ],
   "source": [
    "# Testing the euclideanDistance function\n",
    "data1 = [2, 2, 2, 'a']\n",
    "data2 = [4, 4, 4, 'b']\n",
    "distance = euclideanDistance(data1, data2, 3)\n",
    "print ('Distance: ' + repr(distance))"
   ]
  },
  {
   "cell_type": "code",
   "execution_count": 21,
   "metadata": {},
   "outputs": [],
   "source": [
    "import operator \n",
    "def getKNeighbors(trainingSet, testInstance, k):\n",
    "    distances = []\n",
    "    length = len(testInstance)-1\n",
    "    for x in range(len(trainingSet)):\n",
    "        dist = euclideanDistance(testInstance, trainingSet[x], length)\n",
    "        distances.append((trainingSet[x], dist))\n",
    "    distances.sort(key=operator.itemgetter(1))\n",
    "    neighbors = []\n",
    "    for x in range(k):\n",
    "        neighbors.append(distances[x][0])\n",
    "    return neighbors"
   ]
  },
  {
   "cell_type": "code",
   "execution_count": 22,
   "metadata": {},
   "outputs": [
    {
     "name": "stdout",
     "output_type": "stream",
     "text": [
      "[[4, 4, 4, 'b']]\n"
     ]
    }
   ],
   "source": [
    "trainSet = [[2, 2, 2, 'a'], [4, 4, 4, 'b']]\n",
    "testInstance = [5, 5, 5]\n",
    "k = 1\n",
    "neighbors = getKNeighbors(trainSet, testInstance, k)\n",
    "print(neighbors)"
   ]
  },
  {
   "cell_type": "code",
   "execution_count": 23,
   "metadata": {},
   "outputs": [],
   "source": [
    "import operator\n",
    "def getResponse(neighbors):\n",
    "    classVotes = {}\n",
    "    for x in range(len(neighbors)):\n",
    "        response = neighbors[x][-1]\n",
    "        if response in classVotes:\n",
    "            classVotes[response] += 1\n",
    "        else:\n",
    "            classVotes[response] = 1\n",
    "    sortedVotes = sorted(classVotes.items(), key=operator.itemgetter(1), reverse=True)\n",
    "    return sortedVotes[0][0]"
   ]
  },
  {
   "cell_type": "code",
   "execution_count": 24,
   "metadata": {},
   "outputs": [
    {
     "name": "stdout",
     "output_type": "stream",
     "text": [
      "a\n"
     ]
    }
   ],
   "source": [
    "neighbors = [[1,1,1,'a'], [2,2,2,'a'], [3,3,3,'b']] # print most numbers of class\n",
    "print(getResponse(neighbors))"
   ]
  },
  {
   "cell_type": "code",
   "execution_count": 25,
   "metadata": {},
   "outputs": [],
   "source": [
    "def getAccuracy(testSet, predictions):\n",
    "    correct = 0\n",
    "    for x in range(len(testSet)):\n",
    "        if testSet[x][-1] is predictions[x]:\n",
    "            correct += 1\n",
    "    return (correct/float(len(testSet))) * 100.0"
   ]
  },
  {
   "cell_type": "code",
   "execution_count": 26,
   "metadata": {},
   "outputs": [
    {
     "name": "stdout",
     "output_type": "stream",
     "text": [
      "66.66666666666666\n"
     ]
    }
   ],
   "source": [
    "testSet = [[1,1,1,'a'], [2,2,2,'a'], [3,3,3,'b']]\n",
    "predictions = ['a', 'a', 'a']\n",
    "accuracy = getAccuracy(testSet, predictions)\n",
    "print(accuracy)"
   ]
  },
  {
   "cell_type": "code",
   "execution_count": 28,
   "metadata": {},
   "outputs": [],
   "source": [
    " def getNeighbors(trainingSet, testInstance, k): \n",
    "        distances = [] \n",
    "        length = len(testInstance)-1 \n",
    "        for x in range(len(trainingSet)): \n",
    "            dist = euclideanDistance(testInstance, trainingSet[x], length) \n",
    "            distances.append((trainingSet[x], dist)) \n",
    "            distances.sort(key=operator.itemgetter(1)) \n",
    "            neighbors = [] \n",
    "            for x in range(k): \n",
    "                neighbors.append(distances[x][0])\n",
    "                return neighbors"
   ]
  },
  {
   "cell_type": "code",
   "execution_count": 29,
   "metadata": {},
   "outputs": [
    {
     "name": "stdout",
     "output_type": "stream",
     "text": [
      "Train set: 103\n",
      "Test set: 46\n"
     ]
    },
    {
     "ename": "TypeError",
     "evalue": "unsupported operand type(s) for -: 'str' and 'str'",
     "output_type": "error",
     "traceback": [
      "\u001b[1;31m---------------------------------------------------------------------------\u001b[0m",
      "\u001b[1;31mTypeError\u001b[0m                                 Traceback (most recent call last)",
      "\u001b[1;32m<ipython-input-29-6016713c84f7>\u001b[0m in \u001b[0;36m<module>\u001b[1;34m\u001b[0m\n\u001b[0;32m     18\u001b[0m     \u001b[0mprint\u001b[0m\u001b[1;33m(\u001b[0m\u001b[1;34m'Accuracy: '\u001b[0m \u001b[1;33m+\u001b[0m \u001b[0mrepr\u001b[0m\u001b[1;33m(\u001b[0m\u001b[0maccuracy\u001b[0m\u001b[1;33m)\u001b[0m \u001b[1;33m+\u001b[0m \u001b[1;34m'%'\u001b[0m\u001b[1;33m)\u001b[0m\u001b[1;33m\u001b[0m\u001b[0m\n\u001b[0;32m     19\u001b[0m \u001b[1;33m\u001b[0m\u001b[0m\n\u001b[1;32m---> 20\u001b[1;33m \u001b[0mmain\u001b[0m\u001b[1;33m(\u001b[0m\u001b[1;33m)\u001b[0m\u001b[1;33m\u001b[0m\u001b[0m\n\u001b[0m",
      "\u001b[1;32m<ipython-input-29-6016713c84f7>\u001b[0m in \u001b[0;36mmain\u001b[1;34m()\u001b[0m\n\u001b[0;32m     11\u001b[0m     \u001b[0mk\u001b[0m \u001b[1;33m=\u001b[0m \u001b[1;36m3\u001b[0m\u001b[1;33m\u001b[0m\u001b[0m\n\u001b[0;32m     12\u001b[0m     \u001b[1;32mfor\u001b[0m \u001b[0mx\u001b[0m \u001b[1;32min\u001b[0m \u001b[0mrange\u001b[0m\u001b[1;33m(\u001b[0m\u001b[0mlen\u001b[0m\u001b[1;33m(\u001b[0m\u001b[0mtestSet\u001b[0m\u001b[1;33m)\u001b[0m\u001b[1;33m)\u001b[0m\u001b[1;33m:\u001b[0m\u001b[1;33m\u001b[0m\u001b[0m\n\u001b[1;32m---> 13\u001b[1;33m         \u001b[0mneighbors\u001b[0m \u001b[1;33m=\u001b[0m \u001b[0mgetNeighbors\u001b[0m\u001b[1;33m(\u001b[0m\u001b[0mtrainingSet\u001b[0m\u001b[1;33m,\u001b[0m \u001b[0mtestSet\u001b[0m\u001b[1;33m[\u001b[0m\u001b[0mx\u001b[0m\u001b[1;33m]\u001b[0m\u001b[1;33m,\u001b[0m \u001b[0mk\u001b[0m\u001b[1;33m)\u001b[0m\u001b[1;33m\u001b[0m\u001b[0m\n\u001b[0m\u001b[0;32m     14\u001b[0m         \u001b[0mresult\u001b[0m \u001b[1;33m=\u001b[0m \u001b[0mgetResponse\u001b[0m\u001b[1;33m(\u001b[0m\u001b[0mneighbors\u001b[0m\u001b[1;33m)\u001b[0m\u001b[1;33m\u001b[0m\u001b[0m\n\u001b[0;32m     15\u001b[0m         \u001b[0mpredictions\u001b[0m\u001b[1;33m.\u001b[0m\u001b[0mappend\u001b[0m\u001b[1;33m(\u001b[0m\u001b[0mresult\u001b[0m\u001b[1;33m)\u001b[0m\u001b[1;33m\u001b[0m\u001b[0m\n",
      "\u001b[1;32m<ipython-input-28-c82d77a611ce>\u001b[0m in \u001b[0;36mgetNeighbors\u001b[1;34m(trainingSet, testInstance, k)\u001b[0m\n\u001b[0;32m      3\u001b[0m        \u001b[0mlength\u001b[0m \u001b[1;33m=\u001b[0m \u001b[0mlen\u001b[0m\u001b[1;33m(\u001b[0m\u001b[0mtestInstance\u001b[0m\u001b[1;33m)\u001b[0m\u001b[1;33m-\u001b[0m\u001b[1;36m1\u001b[0m\u001b[1;33m\u001b[0m\u001b[0m\n\u001b[0;32m      4\u001b[0m        \u001b[1;32mfor\u001b[0m \u001b[0mx\u001b[0m \u001b[1;32min\u001b[0m \u001b[0mrange\u001b[0m\u001b[1;33m(\u001b[0m\u001b[0mlen\u001b[0m\u001b[1;33m(\u001b[0m\u001b[0mtrainingSet\u001b[0m\u001b[1;33m)\u001b[0m\u001b[1;33m)\u001b[0m\u001b[1;33m:\u001b[0m\u001b[1;33m\u001b[0m\u001b[0m\n\u001b[1;32m----> 5\u001b[1;33m            \u001b[0mdist\u001b[0m \u001b[1;33m=\u001b[0m \u001b[0meuclideanDistance\u001b[0m\u001b[1;33m(\u001b[0m\u001b[0mtestInstance\u001b[0m\u001b[1;33m,\u001b[0m \u001b[0mtrainingSet\u001b[0m\u001b[1;33m[\u001b[0m\u001b[0mx\u001b[0m\u001b[1;33m]\u001b[0m\u001b[1;33m,\u001b[0m \u001b[0mlength\u001b[0m\u001b[1;33m)\u001b[0m\u001b[1;33m\u001b[0m\u001b[0m\n\u001b[0m\u001b[0;32m      6\u001b[0m            \u001b[0mdistances\u001b[0m\u001b[1;33m.\u001b[0m\u001b[0mappend\u001b[0m\u001b[1;33m(\u001b[0m\u001b[1;33m(\u001b[0m\u001b[0mtrainingSet\u001b[0m\u001b[1;33m[\u001b[0m\u001b[0mx\u001b[0m\u001b[1;33m]\u001b[0m\u001b[1;33m,\u001b[0m \u001b[0mdist\u001b[0m\u001b[1;33m)\u001b[0m\u001b[1;33m)\u001b[0m\u001b[1;33m\u001b[0m\u001b[0m\n\u001b[0;32m      7\u001b[0m            \u001b[0mdistances\u001b[0m\u001b[1;33m.\u001b[0m\u001b[0msort\u001b[0m\u001b[1;33m(\u001b[0m\u001b[0mkey\u001b[0m\u001b[1;33m=\u001b[0m\u001b[0moperator\u001b[0m\u001b[1;33m.\u001b[0m\u001b[0mitemgetter\u001b[0m\u001b[1;33m(\u001b[0m\u001b[1;36m1\u001b[0m\u001b[1;33m)\u001b[0m\u001b[1;33m)\u001b[0m\u001b[1;33m\u001b[0m\u001b[0m\n",
      "\u001b[1;32m<ipython-input-6-7b40fbfd9144>\u001b[0m in \u001b[0;36meuclideanDistance\u001b[1;34m(instance1, instance2, length)\u001b[0m\n\u001b[0;32m      3\u001b[0m     \u001b[0mdistance\u001b[0m \u001b[1;33m=\u001b[0m \u001b[1;36m0\u001b[0m\u001b[1;33m\u001b[0m\u001b[0m\n\u001b[0;32m      4\u001b[0m     \u001b[1;32mfor\u001b[0m \u001b[0mx\u001b[0m \u001b[1;32min\u001b[0m \u001b[0mrange\u001b[0m\u001b[1;33m(\u001b[0m\u001b[0mlength\u001b[0m\u001b[1;33m)\u001b[0m\u001b[1;33m:\u001b[0m\u001b[1;33m\u001b[0m\u001b[0m\n\u001b[1;32m----> 5\u001b[1;33m         \u001b[0mdistance\u001b[0m \u001b[1;33m+=\u001b[0m \u001b[0mpow\u001b[0m\u001b[1;33m(\u001b[0m\u001b[1;33m(\u001b[0m\u001b[0minstance1\u001b[0m\u001b[1;33m[\u001b[0m\u001b[0mx\u001b[0m\u001b[1;33m]\u001b[0m \u001b[1;33m-\u001b[0m \u001b[0minstance2\u001b[0m\u001b[1;33m[\u001b[0m\u001b[0mx\u001b[0m\u001b[1;33m]\u001b[0m\u001b[1;33m)\u001b[0m\u001b[1;33m,\u001b[0m \u001b[1;36m2\u001b[0m\u001b[1;33m)\u001b[0m\u001b[1;33m\u001b[0m\u001b[0m\n\u001b[0m\u001b[0;32m      6\u001b[0m     \u001b[1;32mreturn\u001b[0m \u001b[0mmath\u001b[0m\u001b[1;33m.\u001b[0m\u001b[0msqrt\u001b[0m\u001b[1;33m(\u001b[0m\u001b[0mdistance\u001b[0m\u001b[1;33m)\u001b[0m\u001b[1;33m\u001b[0m\u001b[0m\n",
      "\u001b[1;31mTypeError\u001b[0m: unsupported operand type(s) for -: 'str' and 'str'"
     ]
    }
   ],
   "source": [
    "def main(): \n",
    "    # prepare data \n",
    "    trainingSet=[] \n",
    "    testSet=[] \n",
    "    split = 0.67 \n",
    "    handleDataset('iris.csv', split, trainingSet, testSet) \n",
    "    print ('Train set: ' + repr(len(trainingSet)))\n",
    "    print ('Test set: ' + repr(len(testSet)))\n",
    "    # generate predictions \n",
    "    predictions=[] \n",
    "    k = 3 \n",
    "    for x in range(len(testSet)): \n",
    "        neighbors = getNeighbors(trainingSet, testSet[x], k) \n",
    "        result = getResponse(neighbors) \n",
    "        predictions.append(result) \n",
    "        print('predicted=' + repr(result) + ', actual=' + repr(testSet[x][-1]))\n",
    "    accuracy = getAccuracy(testSet, predictions)\n",
    "    print('Accuracy: ' + repr(accuracy) + '%')\n",
    "     \n",
    "main()"
   ]
  },
  {
   "cell_type": "code",
   "execution_count": null,
   "metadata": {},
   "outputs": [],
   "source": [
    "import csv\n",
    "import random\n",
    "import math\n",
    "import operator\n",
    " \n",
    " def main(): # prepare data \n",
    "    trainingSet=[] \n",
    "    testSet=[] \n",
    "    split = 0.67 \n",
    "    loadDataset('iris.data', split, trainingSet, testSet) \n",
    "    print 'Train set: ' + repr(len(trainingSet)) print 'Test set: ' + repr(len(testSet)) # generate predictions predictions=[] k = 3 for x in range(len(testSet)): neighbors = getNeighbors(trainingSet, testSet[x], k) result = getResponse(neighbors) predictions.append(result) print('> predicted=' + repr(result) + ', actual=' + repr(testSet[x][-1]))\n",
    "    accuracy = getAccuracy(testSet, predictions)\n",
    "    print('Accuracy: ' + repr(accuracy) + '%')\n",
    "     \n",
    "main()"
   ]
  },
  {
   "cell_type": "code",
   "execution_count": null,
   "metadata": {},
   "outputs": [],
   "source": []
  },
  {
   "cell_type": "code",
   "execution_count": null,
   "metadata": {},
   "outputs": [],
   "source": []
  }
 ],
 "metadata": {
  "kernelspec": {
   "display_name": "Python 3",
   "language": "python",
   "name": "python3"
  },
  "language_info": {
   "codemirror_mode": {
    "name": "ipython",
    "version": 3
   },
   "file_extension": ".py",
   "mimetype": "text/x-python",
   "name": "python",
   "nbconvert_exporter": "python",
   "pygments_lexer": "ipython3",
   "version": "3.7.0"
  }
 },
 "nbformat": 4,
 "nbformat_minor": 2
}
